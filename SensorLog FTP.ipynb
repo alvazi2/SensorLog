{
 "cells": [
  {
   "cell_type": "markdown",
   "metadata": {},
   "source": [
    "# FTP to alvazi.de"
   ]
  },
  {
   "cell_type": "code",
   "execution_count": 1,
   "metadata": {},
   "outputs": [],
   "source": [
    "# read FTP data from secrets file\n",
    "# Add path to my library\n",
    "import sys\n",
    "sys.path.append(r'/Users/alvazi2/Documents/PythonPrograms/AlvaziLib')\n",
    "import Secrets\n",
    "PATH = \"/Users/alvazi2/Documents/JupyterLab/Secrets/\"\n",
    "SECRETS_FILENAME = \"AlvaziSecrets.json\"\n",
    "secrets = Secrets.AlvaziSecrets(PATH, SECRETS_FILENAME)"
   ]
  },
  {
   "cell_type": "code",
   "execution_count": 2,
   "metadata": {},
   "outputs": [
    {
     "data": {
      "text/plain": [
       "'221 Goodbye.'"
      ]
     },
     "execution_count": 2,
     "metadata": {},
     "output_type": "execute_result"
    }
   ],
   "source": [
    "import ftplib\n",
    "session = ftplib.FTP(\n",
    "    secrets.secret(\"FTP alvazi.de\")[\"DOMAIN\"],\n",
    "    secrets.secret(\"FTP alvazi.de\")[\"USER\"],\n",
    "    secrets.secret(\"FTP alvazi.de\")[\"PASSWORD\"]\n",
    ")\n",
    "file = open('pastWeekPlot.png','rb')                  # file to send\n",
    "session.storbinary('STOR pastWeekPlot.png', file)     # send the file\n",
    "file.close()                                    # close file and FTP\n",
    "session.quit()"
   ]
  },
  {
   "cell_type": "markdown",
   "metadata": {},
   "source": [
    "From https://stackoverflow.com/questions/12613797/python-script-uploading-files-via-ftp\n",
    "\n",
    "See also https://docs.python.org/3/library/ftplib.html\n",
    "\n",
    "http://www.alvazi.de/pastWeekPlot.png"
   ]
  },
  {
   "cell_type": "code",
   "execution_count": 4,
   "metadata": {},
   "outputs": [
    {
     "data": {
      "text/plain": [
       "'221 Goodbye.'"
      ]
     },
     "execution_count": 4,
     "metadata": {},
     "output_type": "execute_result"
    }
   ],
   "source": [
    "import ftplib\n",
    "session = ftplib.FTP(\n",
    "    secrets.secret(\"FTP alvazi.de\")[\"DOMAIN\"],\n",
    "    secrets.secret(\"FTP alvazi.de\")[\"USER\"],\n",
    "    secrets.secret(\"FTP alvazi.de\")[\"PASSWORD\"]\n",
    ")\n",
    "file = open('../../alvazi.de/index.html','rb') # file to send\n",
    "session.storlines('STOR index.html', file)     # send the file\n",
    "file.close()                                   # close file and FTP\n",
    "session.quit()"
   ]
  },
  {
   "cell_type": "code",
   "execution_count": null,
   "metadata": {},
   "outputs": [],
   "source": []
  }
 ],
 "metadata": {
  "kernelspec": {
   "display_name": "Python 3 (ipykernel)",
   "language": "python",
   "name": "python3"
  },
  "language_info": {
   "codemirror_mode": {
    "name": "ipython",
    "version": 3
   },
   "file_extension": ".py",
   "mimetype": "text/x-python",
   "name": "python",
   "nbconvert_exporter": "python",
   "pygments_lexer": "ipython3",
   "version": "3.10.4"
  }
 },
 "nbformat": 4,
 "nbformat_minor": 4
}
