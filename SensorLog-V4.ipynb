{
 "cells": [
  {
   "attachments": {},
   "cell_type": "markdown",
   "metadata": {},
   "source": [
    "# Retrieve sensor log from Raspberry Pi and graph it\n",
    "This version works with monthly created csv files *_yyyy-mm.csv"
   ]
  },
  {
   "cell_type": "code",
   "execution_count": null,
   "metadata": {},
   "outputs": [],
   "source": [
    "# Read raspberry pi access data from secrets file\n",
    "\n",
    "import sys\n",
    "sys.path.append('../AlvaziLib')\n",
    "\n",
    "from Secrets import Secrets\n",
    "PATH = \"../Secrets/\"\n",
    "SECRETS_FILENAME = \"AlvaziSecrets.json\"\n",
    "secrets = Secrets(PATH, SECRETS_FILENAME)"
   ]
  },
  {
   "cell_type": "code",
   "execution_count": null,
   "metadata": {},
   "outputs": [],
   "source": [
    "from platform import python_version\n",
    "print(python_version())"
   ]
  },
  {
   "cell_type": "code",
   "execution_count": null,
   "metadata": {},
   "outputs": [],
   "source": [
    "import glob\n",
    "\n",
    "# Set log file name pattern: sensor_log_yyyy-mm.csv\n",
    "LogFilePattern = 'sensor_log_{}-{}.csv'\n",
    "\n",
    "# get list of local files that match this pattern\n",
    "csv_files = glob.glob(LogFilePattern.format('*', '*'))\n",
    "print(csv_files)\n",
    "\n",
    "# Note: renamed the original big file to sensor_log_2023-00 to fit into the pattern"
   ]
  },
  {
   "cell_type": "code",
   "execution_count": null,
   "metadata": {},
   "outputs": [],
   "source": [
    "import datetime\n",
    "import pytz\n",
    "\n",
    "# set my time zone\n",
    "myTimeZone = 'US/Pacific'\n",
    "\n",
    "#get current year and month\n",
    "now = datetime.datetime.now(pytz.timezone(myTimeZone))\n",
    "year = now.strftime(\"%Y\")\n",
    "month = now.strftime(\"%m\")"
   ]
  },
  {
   "cell_type": "code",
   "execution_count": null,
   "metadata": {
    "tags": []
   },
   "outputs": [],
   "source": [
    "from paramiko import SSHClient\n",
    "from scp import SCPClient\n",
    "\n",
    "# get login info for my Raspberry Pi\n",
    "RaspberryPi = secrets.secret(\"Raspberry Pi 2013\")[\"IP\"]\n",
    "MyUser = secrets.secret(\"Raspberry Pi 2013\")[\"USER\"]\n",
    "MyPassword = secrets.secret(\"Raspberry Pi 2013\")[\"PASSWORD\"]\n",
    "RemotePath = 'Adafruit_Python_BMP/'\n",
    "\n",
    "# add sensor log file for current month (for the case when not yet transferred)\n",
    "LogFile = LogFilePattern.format(year, month)\n",
    "if LogFile not in csv_files:\n",
    "    csv_files.append(LogFile)\n",
    "\n",
    "# get ssh client to connect to my Raspberry Pi\n",
    "ssh = SSHClient() #secure shell SSH connection\n",
    "ssh.load_system_host_keys()\n",
    "ssh.connect(RaspberryPi, username=MyUser, password=MyPassword, look_for_keys=False)\n",
    "scp = SCPClient(ssh.get_transport())\n",
    "\n",
    "# copy sensor log files from my Raspberry Pi\n",
    "# only get the two latest monthly files (assuming that last download is not more than 2 months ago)\n",
    "csv_files.sort(reverse=True)\n",
    "for csv_file in csv_files[:2]:\n",
    "    if csv_file != 'sensor_log_2023-00.csv':\n",
    "        print(csv_file)\n",
    "        scp.get(RemotePath+csv_file)\n",
    "scp.close()"
   ]
  },
  {
   "cell_type": "code",
   "execution_count": null,
   "metadata": {},
   "outputs": [],
   "source": [
    "import pandas as pd\n",
    "\n",
    "# read sensor log files (CSV format) into pandas dataframe objects\n",
    "# concatenate into a single dataframe object\n",
    "frames = []\n",
    "csv_files.sort(reverse=False)\n",
    "for csv_file in csv_files:\n",
    "    print(csv_file)\n",
    "    df = pd.read_csv(csv_file, index_col=0, parse_dates=True, usecols=['TimeStamp', 'Temp', 'Pressure'])\n",
    "    frames.append(df)\n",
    "sensorLog = pd.concat(frames)\n",
    "\n",
    "# round timestamp to full minutes\n",
    "sensorLog.index = pd.to_datetime(sensorLog.index.map(lambda t: t.strftime('%Y-%m-%d %H:%M')))\n",
    "\n",
    "# localize timestamp index to my timezone\n",
    "sensorLog.index = sensorLog.index.tz_localize(myTimeZone, ambiguous='infer')\n",
    "\n",
    "# print most recent 10 sensor log entries\n",
    "sensorLog.tail(10)"
   ]
  },
  {
   "cell_type": "code",
   "execution_count": null,
   "metadata": {},
   "outputs": [],
   "source": [
    "# timestamp string for plots\n",
    "UpdatedTimestamp = 'Updated {}'.format(now.strftime('%Y-%m-%d %H:%M'))"
   ]
  },
  {
   "cell_type": "code",
   "execution_count": null,
   "metadata": {},
   "outputs": [],
   "source": [
    "import matplotlib.pyplot as plt\n",
    "\n",
    "# plot all data columns\n",
    "axs = sensorLog.plot(figsize=(20,20), grid=True, subplots=True)"
   ]
  },
  {
   "cell_type": "code",
   "execution_count": null,
   "metadata": {},
   "outputs": [],
   "source": [
    "today = datetime.date.today().isoformat()\n",
    "print(today)\n",
    "\n",
    "# plot today's temperature and pressure\n",
    "axs = sensorLog.loc[today:today].plot(y=['Temp','Pressure'], figsize=(20,10), grid=True, marker='o', subplots=True)\n",
    "\n",
    "print(sensorLog.loc[today:today].describe())"
   ]
  },
  {
   "cell_type": "code",
   "execution_count": null,
   "metadata": {},
   "outputs": [],
   "source": [
    "# plot yesterday's and today's temperature and pressure\n",
    "yesterday = (datetime.date.today() - datetime.timedelta(days = 1)).isoformat()\n",
    "axs = sensorLog.loc[yesterday:today].plot(y=['Temp','Pressure'], figsize=(20,10), grid=True, marker='.', subplots=True)"
   ]
  },
  {
   "cell_type": "code",
   "execution_count": null,
   "metadata": {},
   "outputs": [],
   "source": [
    "# plot past week's temperature and pressure\n",
    "weekago = (datetime.date.today() - datetime.timedelta(weeks = 1)).isoformat() \n",
    "axs = sensorLog.loc[weekago:today].plot(y=['Temp','Pressure'], figsize=(20,10), grid=True, subplots=True, title=f'Past Week / {UpdatedTimestamp}')\n",
    "\n",
    "# save plot as file\n",
    "plt.savefig('pastWeekPlot')"
   ]
  },
  {
   "cell_type": "code",
   "execution_count": null,
   "metadata": {},
   "outputs": [],
   "source": [
    "sensorLog.axes"
   ]
  },
  {
   "cell_type": "code",
   "execution_count": null,
   "metadata": {},
   "outputs": [],
   "source": [
    "sensorLog.loc[weekago:today].agg(['min', 'max', 'mean'])"
   ]
  },
  {
   "cell_type": "code",
   "execution_count": null,
   "metadata": {},
   "outputs": [],
   "source": [
    "# 1-day rolling average\n",
    "axs = sensorLog.rolling(24*4).mean().plot(y=['Temp','Pressure'], figsize=(20,10), grid=True, subplots=True, title=f'1-day rolling average / {UpdatedTimestamp}')\n",
    "# save plot as file\n",
    "plt.savefig('rollingAverage-1day')"
   ]
  },
  {
   "cell_type": "code",
   "execution_count": null,
   "metadata": {},
   "outputs": [],
   "source": [
    "# 3 days rolling average\n",
    "axs = sensorLog.rolling(3*24*4).mean().plot(y=['Temp','Pressure'], figsize=(20,10), grid=True, subplots=True, title=f'3-days rolling average / {UpdatedTimestamp}')"
   ]
  },
  {
   "cell_type": "code",
   "execution_count": null,
   "metadata": {},
   "outputs": [],
   "source": [
    "# 7 days rolling average\n",
    "axs = sensorLog.rolling(7*24*4).mean().plot(y=['Temp','Pressure'], figsize=(20,10), grid=True, subplots=True, title=f'7-days rolling average / {UpdatedTimestamp}')\n",
    "# save plot as file\n",
    "plt.savefig('rollingAverage-7days')"
   ]
  },
  {
   "cell_type": "code",
   "execution_count": null,
   "metadata": {},
   "outputs": [],
   "source": [
    "sensorLogDiff = sensorLog.diff()\n",
    "axs = sensorLogDiff.loc[weekago:today].rolling(4*4).mean().plot(figsize=(20,20), grid=True, subplots=True, title=f'Difference 4-hour rolling average / {UpdatedTimestamp}')\n",
    "plt.savefig('Diff-rollingAverage-4hours')"
   ]
  },
  {
   "cell_type": "code",
   "execution_count": null,
   "metadata": {},
   "outputs": [],
   "source": [
    "# bar plot daily average, minimum, and maximum temperature\n",
    "\n",
    "axs = sensorLog.resample('D', level=0).mean().plot.bar(title='Daily Average Temperature',\n",
    "    y=['Temp'], figsize=(20,10), grid=True)\n",
    "axs1 = sensorLog.resample('D', level=0).min().plot.bar(\n",
    "    y=['Temp'], figsize=(20,10), grid=True, title='Daily Minimum Temperature')\n",
    "axs2 = sensorLog.resample('D', level=0).max().plot.bar(\n",
    "    y=['Temp'], figsize=(20,10), grid=True, title='Daily Maximum Temperature')"
   ]
  },
  {
   "cell_type": "code",
   "execution_count": null,
   "metadata": {},
   "outputs": [],
   "source": [
    "# calculate daily min, mean, max temperature using dataframe resampling\n",
    "minTemp = sensorLog.loc[:yesterday].resample('D', level=0).min().filter(items=['TimeStamp','Temp']).rename(columns = {'Temp':'Min'})\n",
    "meanTemp = sensorLog.loc[:yesterday].resample('D', level=0).mean().filter(items=['TimeStamp','Temp']).rename(columns = {'Temp':'Mean'})\n",
    "maxTemp = sensorLog.loc[:yesterday].resample('D', level=0).max().filter(items=['TimeStamp','Temp']).rename(columns = {'Temp':'Max'})\n",
    "dailyTemp = minTemp.join(meanTemp, how='outer').join(maxTemp, how='outer')\n",
    "axs = dailyTemp.plot(figsize=(20,5), grid=True, subplots=False, marker='.', title='Daily Temperature [C]')"
   ]
  },
  {
   "cell_type": "code",
   "execution_count": null,
   "metadata": {},
   "outputs": [],
   "source": [
    "# Calculate and plot Fourier transform of temperature series\n",
    "# fft (from https://stackoverflow.com/questions/48622933/python-performing-fft-on-csv-values-using-scipy-documentation)\n",
    "import numpy as np\n",
    "from numpy.fft import rfft, rfftfreq\n",
    "import matplotlib.pyplot as plt\n",
    "\n",
    "temperatureSeries = sensorLog.filter(items=['Temp']).values.flatten() #numpy array format\n",
    "dt = 15/(24*60) #time increment in unit of days (every 15 minutes)\n",
    "\n",
    "fft = rfft(temperatureSeries)*dt\n",
    "freq = rfftfreq(len(temperatureSeries),d=dt)\n",
    "\n",
    "plt.figure(figsize=(20,5))\n",
    "plt.xlim([0.1,5])\n",
    "plt.ylim([0, 2000])\n",
    "plt.xlabel('[Period in Days]')\n",
    "plt.title(f'Temperature Frequencies (Fourier Transform) / {UpdatedTimestamp}')\n",
    "axs = plt.bar(freq, abs(fft), width=0.025)\n",
    "plt.savefig('FFT-Temperature')"
   ]
  },
  {
   "cell_type": "code",
   "execution_count": null,
   "metadata": {
    "tags": []
   },
   "outputs": [],
   "source": [
    "# Calculate and plot Fourier transform of temperature series\n",
    "\n",
    "pressureSeries = sensorLog.filter(items=['Pressure']).values.flatten() #numpy array format\n",
    "\n",
    "fft = rfft(pressureSeries)*dt\n",
    "freq = rfftfreq(len(pressureSeries),d=dt)\n",
    "\n",
    "plt.figure(figsize=(20,5))\n",
    "plt.xlim([0.01, 10.1])\n",
    "plt.ylim([0, 30000])\n",
    "plt.xlabel('[Period in Days]')\n",
    "plt.title(f'Pressure Frequencies (Fourier Transform) / {UpdatedTimestamp}')\n",
    "axs = plt.bar(freq, abs(fft), width=0.025)\n",
    "plt.savefig('FFT-Pressure')"
   ]
  },
  {
   "cell_type": "code",
   "execution_count": null,
   "metadata": {},
   "outputs": [],
   "source": [
    "freq"
   ]
  },
  {
   "cell_type": "code",
   "execution_count": null,
   "metadata": {},
   "outputs": [],
   "source": [
    "# ftp plots to website\n",
    "\n",
    "from AlvaziFTP import AlvaziFTP\n",
    "ftpSession = AlvaziFTP()\n",
    "\n",
    "png_files = glob.glob('*.png')\n",
    "for png_file in png_files:\n",
    "    ftpSession.uploadBinary(png_file)\n",
    "    print( png_file )\n",
    "\n",
    "ftpSession.quit()"
   ]
  },
  {
   "cell_type": "code",
   "execution_count": null,
   "metadata": {},
   "outputs": [],
   "source": [
    "# Get index of minimum and maximum temperature overall\n",
    "#https://www.geeksforgeeks.org/get-the-index-of-maximum-value-in-dataframe-column/\n",
    "\n",
    "print(sensorLog[['Temp']].idxmin(), sensorLog[['Temp']].idxmax())"
   ]
  },
  {
   "cell_type": "code",
   "execution_count": null,
   "metadata": {},
   "outputs": [],
   "source": [
    "sensorLog.loc[today:today][['Temp']].idxmin()"
   ]
  },
  {
   "cell_type": "code",
   "execution_count": null,
   "metadata": {},
   "outputs": [],
   "source": [
    "# create dataframe with time of minimum and maximum temperature by date\n",
    "# adapted from https://stackoverflow.com/questions/29569365/how-to-obtain-the-distribution-of-idmax-idmin-in-timeseries-data\n",
    "sensorLogByDate = sensorLog.groupby(sensorLog.index.date)\n",
    "timeMinMaxTemp = pd.DataFrame({'MinTemp_Time': sensorLogByDate['Temp'].idxmin().dt.time, \n",
    "                               'MaxTemp_Time': sensorLogByDate['Temp'].idxmax().dt.time})"
   ]
  },
  {
   "cell_type": "code",
   "execution_count": null,
   "metadata": {},
   "outputs": [],
   "source": [
    "timeMinMaxTemp.tail(10)"
   ]
  },
  {
   "cell_type": "code",
   "execution_count": null,
   "metadata": {},
   "outputs": [],
   "source": [
    "# plot the min/max temperature times by date\n",
    "minTemp_Time = pd.to_datetime(timeMinMaxTemp.MinTemp_Time, format='%H:%M:%S') #.dt.time\n",
    "maxTemp_Time = pd.to_datetime(timeMinMaxTemp.MaxTemp_Time, format='%H:%M:%S') #.dt.time\n",
    "plt.figure(figsize=(20,8))\n",
    "plt.plot(timeMinMaxTemp.index, minTemp_Time, marker='*', linestyle='None')\n",
    "plt.plot(timeMinMaxTemp.index, maxTemp_Time, marker='+', linestyle='None')\n",
    "plt.grid()"
   ]
  },
  {
   "attachments": {},
   "cell_type": "markdown",
   "metadata": {},
   "source": [
    "https://stackoverflow.com/questions/58263983/how-to-plot-date-in-x-axis-time-in-y-axis-with-pandas-matplotlib-and-present-ti\n",
    "\n",
    "(add also sunrise sunset times)"
   ]
  },
  {
   "cell_type": "code",
   "execution_count": null,
   "metadata": {},
   "outputs": [],
   "source": [
    "minTemp_Time"
   ]
  },
  {
   "cell_type": "code",
   "execution_count": null,
   "metadata": {},
   "outputs": [],
   "source": [
    "sensorLog.tail(50)"
   ]
  },
  {
   "cell_type": "code",
   "execution_count": null,
   "metadata": {},
   "outputs": [],
   "source": [
    "# Calculate difference between successive timestamps and print those with absolute value > 15 minutes\n",
    "# This should show power outages or other downtimes\n",
    "diffs = sensorLog.index.to_series().diff() #.dropna()\n",
    "diffs_in_seconds = diffs.dt.total_seconds()\n",
    "gap_Minutes = 15\n",
    "filtered_diffs = [(str(idx), diff) for idx, diff in zip(diffs.index[1:], diffs_in_seconds) if abs(diff) > gap_Minutes*60]\n",
    "print(f\"Gaps in time series greater than {gap_Minutes} minutes:\")\n",
    "for timestamp, diff in filtered_diffs:\n",
    "    print(f\"Timestamp: {timestamp}, Difference: {diff/60} minutes\")"
   ]
  }
 ],
 "metadata": {
  "kernelspec": {
   "display_name": "Python 3 (ipykernel)",
   "language": "python",
   "name": "python3"
  },
  "language_info": {
   "codemirror_mode": {
    "name": "ipython",
    "version": 3
   },
   "file_extension": ".py",
   "mimetype": "text/x-python",
   "name": "python",
   "nbconvert_exporter": "python",
   "pygments_lexer": "ipython3",
   "version": "3.12.0"
  }
 },
 "nbformat": 4,
 "nbformat_minor": 4
}
