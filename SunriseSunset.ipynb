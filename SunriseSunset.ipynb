{
 "cells": [
  {
   "cell_type": "markdown",
   "metadata": {},
   "source": [
    "Calculate time of sunrise and sunset\n",
    "Simplified algorithm\n",
    "https://gml.noaa.gov/grad/solcalc/solareqns.PDF"
   ]
  },
  {
   "cell_type": "code",
   "execution_count": 1,
   "metadata": {},
   "outputs": [],
   "source": [
    "import math\n",
    "import datetime"
   ]
  },
  {
   "cell_type": "code",
   "execution_count": 2,
   "metadata": {},
   "outputs": [],
   "source": [
    "def deg_to_rad( deg ):\n",
    "    return 2*math.pi * deg/360"
   ]
  },
  {
   "cell_type": "code",
   "execution_count": 3,
   "metadata": {},
   "outputs": [
    {
     "name": "stdout",
     "output_type": "stream",
     "text": [
      "2021-06-25 20:34:21.416555 176 365\n"
     ]
    }
   ],
   "source": [
    "# set day of year\n",
    "today = datetime.datetime.now()\n",
    "day_of_year = (today - datetime.datetime(today.year, 1, 1)).days + 1\n",
    "days_in_year = (datetime.datetime(today.year, 12, 31) - datetime.datetime(today.year, 1, 1)).days + 1\n",
    "print(today, day_of_year, days_in_year)"
   ]
  },
  {
   "cell_type": "code",
   "execution_count": 4,
   "metadata": {},
   "outputs": [],
   "source": [
    "# set time\n",
    "hour = 12 #use noon\n",
    "minute = 0\n",
    "second = 0"
   ]
  },
  {
   "cell_type": "code",
   "execution_count": 5,
   "metadata": {},
   "outputs": [],
   "source": [
    "# set longitude (degrees, positive east of Prime Meridian)\n",
    "longitude = -122.329766 #San Mateo\n",
    "# set latitude\n",
    "latitude = 37.546404 #San Mateo\n",
    "# set timezone (hours from UTC, e.g. PST = -8 hours)\n",
    "timezone = -7 #PDT"
   ]
  },
  {
   "cell_type": "code",
   "execution_count": 6,
   "metadata": {},
   "outputs": [
    {
     "name": "stdout",
     "output_type": "stream",
     "text": [
      "3.0124861061819934\n"
     ]
    }
   ],
   "source": [
    "# fractional year gamma\n",
    "hour = 12 #use noon\n",
    "gamma = ( 2 * math.pi / days_in_year ) * (day_of_year - 1 + (hour - 12)/24)\n",
    "print(gamma)"
   ]
  },
  {
   "cell_type": "code",
   "execution_count": 7,
   "metadata": {},
   "outputs": [
    {
     "name": "stdout",
     "output_type": "stream",
     "text": [
      "-2.2017007627288177\n"
     ]
    }
   ],
   "source": [
    "# equation of time\n",
    "eq_time = 229.18*(0.000075 + 0.001868*math.cos(gamma) - 0.032077*math.sin(gamma) \n",
    "                  - 0.014615*math.cos(2*gamma) - 0.040849*math.sin(2*gamma) )\n",
    "print(eq_time)"
   ]
  },
  {
   "cell_type": "code",
   "execution_count": 8,
   "metadata": {},
   "outputs": [
    {
     "name": "stdout",
     "output_type": "stream",
     "text": [
      "0.4088377850084296\n"
     ]
    }
   ],
   "source": [
    "# solar declination angle\n",
    "decl = 0.006918 - 0.399912*math.cos(gamma) + 0.070257*math.sin(gamma) - 0.006758*math.cos(2*gamma) + 0.000907*math.sin(2*gamma) - 0.002697*math.cos(3*gamma) + 0.00148*math.sin(3*gamma)\n",
    "print(decl)"
   ]
  },
  {
   "cell_type": "code",
   "execution_count": 9,
   "metadata": {},
   "outputs": [
    {
     "name": "stdout",
     "output_type": "stream",
     "text": [
      "648.4792352372712\n"
     ]
    }
   ],
   "source": [
    "# Time offset and true solar time\n",
    "time_offset = eq_time + 4*longitude - 60*timezone\n",
    "true_solar_time = hour*60 + minute + second/60 + time_offset\n",
    "print(true_solar_time)"
   ]
  },
  {
   "cell_type": "code",
   "execution_count": 10,
   "metadata": {},
   "outputs": [
    {
     "name": "stdout",
     "output_type": "stream",
     "text": [
      "-17.88019119068221\n"
     ]
    }
   ],
   "source": [
    "# Solar hour angle\n",
    "hour_angle = (true_solar_time/4) - 180\n",
    "print(hour_angle)"
   ]
  },
  {
   "cell_type": "code",
   "execution_count": 11,
   "metadata": {},
   "outputs": [
    {
     "name": "stdout",
     "output_type": "stream",
     "text": [
      "91.36498964408176\n"
     ]
    }
   ],
   "source": [
    "# hour angle for sunrise and sunset\n",
    "ha = (360/(2*math.pi))*math.acos(math.cos(deg_to_rad(90.833)) / ( math.cos(deg_to_rad(latitude)) * math.cos(deg_to_rad(decl)) ) \n",
    "                - math.tan(deg_to_rad(latitude))*math.tan(deg_to_rad(decl)) )\n",
    "print(ha)"
   ]
  },
  {
   "cell_type": "code",
   "execution_count": null,
   "metadata": {},
   "outputs": [],
   "source": []
  },
  {
   "cell_type": "code",
   "execution_count": 12,
   "metadata": {},
   "outputs": [
    {
     "name": "stdout",
     "output_type": "stream",
     "text": [
      "846.0608061864018 14.10101343644003 7.101013436440031\n"
     ]
    }
   ],
   "source": [
    "sunrise = 720 - 4*(longitude + ha) - eq_time\n",
    "print(sunrise, sunrise/60, sunrise/60 + timezone)"
   ]
  },
  {
   "cell_type": "code",
   "execution_count": 13,
   "metadata": {},
   "outputs": [
    {
     "name": "stdout",
     "output_type": "stream",
     "text": [
      "1576.9807233390557 26.28301205565093 19.28301205565093\n"
     ]
    }
   ],
   "source": [
    "sunset = 720 - 4*(longitude - ha) - eq_time\n",
    "print(sunset, sunset/60, sunset/60 + timezone)"
   ]
  },
  {
   "cell_type": "code",
   "execution_count": 14,
   "metadata": {},
   "outputs": [
    {
     "name": "stdout",
     "output_type": "stream",
     "text": [
      "1211.5207647627287 20.192012746045478 13.192012746045478\n"
     ]
    }
   ],
   "source": [
    "solar_noon = 720 - 4*(longitude) - eq_time\n",
    "print(solar_noon, solar_noon/60, solar_noon/60 + timezone)"
   ]
  },
  {
   "cell_type": "code",
   "execution_count": null,
   "metadata": {},
   "outputs": [],
   "source": []
  }
 ],
 "metadata": {
  "kernelspec": {
   "display_name": "Python 3",
   "language": "python",
   "name": "python3"
  },
  "language_info": {
   "codemirror_mode": {
    "name": "ipython",
    "version": 3
   },
   "file_extension": ".py",
   "mimetype": "text/x-python",
   "name": "python",
   "nbconvert_exporter": "python",
   "pygments_lexer": "ipython3",
   "version": "3.8.2"
  }
 },
 "nbformat": 4,
 "nbformat_minor": 4
}
