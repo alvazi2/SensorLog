{
 "cells": [
  {
   "cell_type": "code",
   "execution_count": 1,
   "metadata": {},
   "outputs": [
    {
     "name": "stdout",
     "output_type": "stream",
     "text": [
      "../../alvazi.de/index.html\n"
     ]
    }
   ],
   "source": [
    "# ftp plots to website\n",
    "\n",
    "import sys\n",
    "sys.path.append('../AlvaziLib')\n",
    "\n",
    "from AlvaziFTP import AlvaziFTP\n",
    "ftpSession = AlvaziFTP()\n",
    "\n",
    "html_file = '../../alvazi.de/index.html'  #issue: need to handle path and file separately\n",
    "ftpSession.uploadLines(html_file)\n",
    "ftpSession.quit()"
   ]
  }
 ],
 "metadata": {
  "kernelspec": {
   "display_name": "Python 3",
   "language": "python",
   "name": "python3"
  },
  "language_info": {
   "codemirror_mode": {
    "name": "ipython",
    "version": 3
   },
   "file_extension": ".py",
   "mimetype": "text/x-python",
   "name": "python",
   "nbconvert_exporter": "python",
   "pygments_lexer": "ipython3",
   "version": "3.12.0"
  }
 },
 "nbformat": 4,
 "nbformat_minor": 2
}
